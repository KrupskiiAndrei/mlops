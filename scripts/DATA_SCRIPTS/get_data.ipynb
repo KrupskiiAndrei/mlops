{
 "cells": [
  {
   "cell_type": "code",
   "execution_count": 3,
   "id": "14b78689-db4b-40d1-bb6a-ddfe801578ea",
   "metadata": {},
   "outputs": [],
   "source": [
    "import pandas as pd\n",
    "\n",
    "# Загрузка данных из файла\n",
    "file_path = \"/home/infor/project/mlops/data/RAW/Knal.csv\"\n",
    "data = pd.read_csv(file_path)\n",
    "\n",
    "# Разделение данных\n",
    "train_data = data.iloc[:-2]\n",
    "test_data = data.iloc[-2:-1]\n",
    "\n",
    "# Сохранение данных в соответствующие файлы\n",
    "test_file_path = \"/home/infor/project/mlops/data/RAW/test.csv\"\n",
    "train_file_path = \"/home/infor/project/mlops/data/RAW/train.csv\"\n",
    "\n",
    "test_data.to_csv(test_file_path, index=False)\n",
    "train_data.to_csv(train_file_path, index=False)"
   ]
  },
  {
   "cell_type": "code",
   "execution_count": null,
   "id": "e8196afa-dce5-4c9d-99fa-3b8ff031dcaa",
   "metadata": {},
   "outputs": [],
   "source": []
  }
 ],
 "metadata": {
  "kernelspec": {
   "display_name": "Python 3 (ipykernel)",
   "language": "python",
   "name": "python3"
  },
  "language_info": {
   "codemirror_mode": {
    "name": "ipython",
    "version": 3
   },
   "file_extension": ".py",
   "mimetype": "text/x-python",
   "name": "python",
   "nbconvert_exporter": "python",
   "pygments_lexer": "ipython3",
   "version": "3.10.12"
  }
 },
 "nbformat": 4,
 "nbformat_minor": 5
}
